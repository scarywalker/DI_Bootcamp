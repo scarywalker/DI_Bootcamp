{
 "cells": [
  {
   "cell_type": "code",
   "execution_count": 2,
   "id": "4ceee28c-270d-43f7-b9c6-570c2dd376f9",
   "metadata": {},
   "outputs": [],
   "source": [
    "import numpy as np"
   ]
  },
  {
   "cell_type": "code",
   "execution_count": 3,
   "id": "57709872-dd31-448a-ac5c-4925f6d52b98",
   "metadata": {},
   "outputs": [],
   "source": [
    "a = np.zeros(10)"
   ]
  },
  {
   "cell_type": "code",
   "execution_count": 4,
   "id": "26fde823-9b8c-45cb-86a5-540e2cd72fd4",
   "metadata": {},
   "outputs": [
    {
     "data": {
      "text/plain": [
       "array([0., 0., 0., 0., 0., 0., 0., 0., 0., 0.])"
      ]
     },
     "execution_count": 4,
     "metadata": {},
     "output_type": "execute_result"
    }
   ],
   "source": [
    "a"
   ]
  },
  {
   "cell_type": "code",
   "execution_count": 7,
   "id": "05daf426-b3be-4b8c-88b6-7b73dc7c9c2d",
   "metadata": {},
   "outputs": [
    {
     "data": {
      "text/plain": [
       "8"
      ]
     },
     "execution_count": 7,
     "metadata": {},
     "output_type": "execute_result"
    }
   ],
   "source": [
    "a.itemsize"
   ]
  },
  {
   "cell_type": "code",
   "execution_count": 8,
   "id": "f9ccfc86-54c1-4cfb-8d53-5ae6306172ef",
   "metadata": {},
   "outputs": [],
   "source": [
    "b = len(a)*a.itemsize"
   ]
  },
  {
   "cell_type": "code",
   "execution_count": 9,
   "id": "dd0f40b9-a23a-487a-beff-c17d5cd7253b",
   "metadata": {},
   "outputs": [
    {
     "data": {
      "text/plain": [
       "80"
      ]
     },
     "execution_count": 9,
     "metadata": {},
     "output_type": "execute_result"
    }
   ],
   "source": [
    "b"
   ]
  },
  {
   "cell_type": "code",
   "execution_count": 11,
   "id": "f59471e6-6358-4dd8-869a-252d8e537807",
   "metadata": {},
   "outputs": [
    {
     "name": "stdout",
     "output_type": "stream",
     "text": [
      "Help on ufunc:\n",
      "\n",
      "add = <ufunc 'add'>\n",
      "    add(x1, x2, /, out=None, *, where=True, casting='same_kind', order='K', dtype=None, subok=True[, signature, extobj])\n",
      "    \n",
      "    Add arguments element-wise.\n",
      "    \n",
      "    Parameters\n",
      "    ----------\n",
      "    x1, x2 : array_like\n",
      "        The arrays to be added.\n",
      "        If ``x1.shape != x2.shape``, they must be broadcastable to a common\n",
      "        shape (which becomes the shape of the output).\n",
      "    out : ndarray, None, or tuple of ndarray and None, optional\n",
      "        A location into which the result is stored. If provided, it must have\n",
      "        a shape that the inputs broadcast to. If not provided or None,\n",
      "        a freshly-allocated array is returned. A tuple (possible only as a\n",
      "        keyword argument) must have length equal to the number of outputs.\n",
      "    where : array_like, optional\n",
      "        This condition is broadcast over the input. At locations where the\n",
      "        condition is True, the `out` array will be set to the ufunc result.\n",
      "        Elsewhere, the `out` array will retain its original value.\n",
      "        Note that if an uninitialized `out` array is created via the default\n",
      "        ``out=None``, locations within it where the condition is False will\n",
      "        remain uninitialized.\n",
      "    **kwargs\n",
      "        For other keyword-only arguments, see the\n",
      "        :ref:`ufunc docs <ufuncs.kwargs>`.\n",
      "    \n",
      "    Returns\n",
      "    -------\n",
      "    add : ndarray or scalar\n",
      "        The sum of `x1` and `x2`, element-wise.\n",
      "        This is a scalar if both `x1` and `x2` are scalars.\n",
      "    \n",
      "    Notes\n",
      "    -----\n",
      "    Equivalent to `x1` + `x2` in terms of array broadcasting.\n",
      "    \n",
      "    Examples\n",
      "    --------\n",
      "    >>> np.add(1.0, 4.0)\n",
      "    5.0\n",
      "    >>> x1 = np.arange(9.0).reshape((3, 3))\n",
      "    >>> x2 = np.arange(3.0)\n",
      "    >>> np.add(x1, x2)\n",
      "    array([[  0.,   2.,   4.],\n",
      "           [  3.,   5.,   7.],\n",
      "           [  6.,   8.,  10.]])\n",
      "    \n",
      "    The ``+`` operator can be used as a shorthand for ``np.add`` on ndarrays.\n",
      "    \n",
      "    >>> x1 = np.arange(9.0).reshape((3, 3))\n",
      "    >>> x2 = np.arange(3.0)\n",
      "    >>> x1 + x2\n",
      "    array([[ 0.,  2.,  4.],\n",
      "           [ 3.,  5.,  7.],\n",
      "           [ 6.,  8., 10.]])\n",
      "\n"
     ]
    }
   ],
   "source": [
    "help(np.add)"
   ]
  },
  {
   "cell_type": "code",
   "execution_count": 13,
   "id": "2e920611-55a9-4677-8e9e-3a5d6a59ab2b",
   "metadata": {},
   "outputs": [],
   "source": [
    "a = np.arange(10,50)"
   ]
  },
  {
   "cell_type": "code",
   "execution_count": 14,
   "id": "8af68a82-ef41-4d3a-807f-e65bad678f28",
   "metadata": {},
   "outputs": [
    {
     "data": {
      "text/plain": [
       "array([10, 11, 12, 13, 14, 15, 16, 17, 18, 19, 20, 21, 22, 23, 24, 25, 26,\n",
       "       27, 28, 29, 30, 31, 32, 33, 34, 35, 36, 37, 38, 39, 40, 41, 42, 43,\n",
       "       44, 45, 46, 47, 48, 49])"
      ]
     },
     "execution_count": 14,
     "metadata": {},
     "output_type": "execute_result"
    }
   ],
   "source": [
    "a"
   ]
  },
  {
   "cell_type": "code",
   "execution_count": 20,
   "id": "f8c81bc3-277b-40b0-a923-5bc942df1965",
   "metadata": {},
   "outputs": [],
   "source": [
    "b = a[-1:0:-1]"
   ]
  },
  {
   "cell_type": "code",
   "execution_count": 21,
   "id": "5ad2f56e-9d9c-47d7-b665-950793f2e059",
   "metadata": {},
   "outputs": [
    {
     "data": {
      "text/plain": [
       "array([49, 48, 47, 46, 45, 44, 43, 42, 41, 40, 39, 38, 37, 36, 35, 34, 33,\n",
       "       32, 31, 30, 29, 28, 27, 26, 25, 24, 23, 22, 21, 20, 19, 18, 17, 16,\n",
       "       15, 14, 13, 12, 11])"
      ]
     },
     "execution_count": 21,
     "metadata": {},
     "output_type": "execute_result"
    }
   ],
   "source": [
    "b"
   ]
  },
  {
   "cell_type": "code",
   "execution_count": 23,
   "id": "d24f11f5-37b1-4e4c-9845-c64abfd6730f",
   "metadata": {},
   "outputs": [
    {
     "data": {
      "text/plain": [
       "array([[0, 1, 2],\n",
       "       [3, 4, 5],\n",
       "       [6, 7, 8]])"
      ]
     },
     "execution_count": 23,
     "metadata": {},
     "output_type": "execute_result"
    }
   ],
   "source": [
    "np.reshape(np.arange(0,9),(3,3))"
   ]
  },
  {
   "cell_type": "code",
   "execution_count": 24,
   "id": "71ac322e-0e8e-4412-8ae9-674621a98cd2",
   "metadata": {},
   "outputs": [
    {
     "data": {
      "text/plain": [
       "(array([0, 1, 4], dtype=int64),)"
      ]
     },
     "execution_count": 24,
     "metadata": {},
     "output_type": "execute_result"
    }
   ],
   "source": [
    "np.nonzero([1,2,0,0,4,0])"
   ]
  },
  {
   "cell_type": "code",
   "execution_count": 25,
   "id": "c6042ff2-116d-4188-97c9-8e77c20a356a",
   "metadata": {},
   "outputs": [
    {
     "data": {
      "text/plain": [
       "array([[1., 0., 0.],\n",
       "       [0., 1., 0.],\n",
       "       [0., 0., 1.]])"
      ]
     },
     "execution_count": 25,
     "metadata": {},
     "output_type": "execute_result"
    }
   ],
   "source": [
    "np.eye(3)"
   ]
  },
  {
   "cell_type": "code",
   "execution_count": 27,
   "id": "01ccfcfe-efa6-43e2-a19b-ecb127ec6e58",
   "metadata": {},
   "outputs": [],
   "source": [
    "a = np.arange(5)"
   ]
  },
  {
   "cell_type": "code",
   "execution_count": 29,
   "id": "160736ee-503a-428b-8dbe-4bc659d7d365",
   "metadata": {},
   "outputs": [
    {
     "data": {
      "text/plain": [
       "array([[0, 1, 2, 3, 4],\n",
       "       [0, 1, 2, 3, 4],\n",
       "       [0, 1, 2, 3, 4],\n",
       "       [0, 1, 2, 3, 4],\n",
       "       [0, 1, 2, 3, 4]])"
      ]
     },
     "execution_count": 29,
     "metadata": {},
     "output_type": "execute_result"
    }
   ],
   "source": [
    "np.tile(a, (5, 1))"
   ]
  },
  {
   "cell_type": "code",
   "execution_count": 32,
   "id": "b8c82638-4fbb-49fb-ab43-b8b9de65c3e4",
   "metadata": {},
   "outputs": [
    {
     "data": {
      "text/plain": [
       "array([0.09090909, 0.18181818, 0.27272727, 0.36363636, 0.45454545,\n",
       "       0.54545455, 0.63636364, 0.72727273, 0.81818182, 0.90909091])"
      ]
     },
     "execution_count": 32,
     "metadata": {},
     "output_type": "execute_result"
    }
   ],
   "source": [
    "np.linspace(0,1,12)[1:11]"
   ]
  },
  {
   "cell_type": "code",
   "execution_count": 48,
   "id": "ef4092a7-95f6-4674-aed4-c1bc4b3f675d",
   "metadata": {},
   "outputs": [],
   "source": [
    "a = np.random.rand(10)"
   ]
  },
  {
   "cell_type": "code",
   "execution_count": 49,
   "id": "f4b19185-d1e3-4e61-b486-b01fd3e60717",
   "metadata": {},
   "outputs": [
    {
     "data": {
      "text/plain": [
       "array([0.89626222, 0.935968  , 0.40367513, 0.99140109, 0.46329282,\n",
       "       0.04374128, 0.9356329 , 0.27350516, 0.20484475, 0.94866861])"
      ]
     },
     "execution_count": 49,
     "metadata": {},
     "output_type": "execute_result"
    }
   ],
   "source": [
    "a"
   ]
  },
  {
   "cell_type": "code",
   "execution_count": 40,
   "id": "67ecd1fb-bfe7-435a-a3f2-29c33ab0d0dd",
   "metadata": {},
   "outputs": [
    {
     "name": "stdout",
     "output_type": "stream",
     "text": [
      "Help on _ArrayFunctionDispatcher in module numpy:\n",
      "\n",
      "argsort(a, axis=-1, kind=None, order=None)\n",
      "    Returns the indices that would sort an array.\n",
      "    \n",
      "    Perform an indirect sort along the given axis using the algorithm specified\n",
      "    by the `kind` keyword. It returns an array of indices of the same shape as\n",
      "    `a` that index data along the given axis in sorted order.\n",
      "    \n",
      "    Parameters\n",
      "    ----------\n",
      "    a : array_like\n",
      "        Array to sort.\n",
      "    axis : int or None, optional\n",
      "        Axis along which to sort.  The default is -1 (the last axis). If None,\n",
      "        the flattened array is used.\n",
      "    kind : {'quicksort', 'mergesort', 'heapsort', 'stable'}, optional\n",
      "        Sorting algorithm. The default is 'quicksort'. Note that both 'stable'\n",
      "        and 'mergesort' use timsort under the covers and, in general, the\n",
      "        actual implementation will vary with data type. The 'mergesort' option\n",
      "        is retained for backwards compatibility.\n",
      "    \n",
      "        .. versionchanged:: 1.15.0.\n",
      "           The 'stable' option was added.\n",
      "    order : str or list of str, optional\n",
      "        When `a` is an array with fields defined, this argument specifies\n",
      "        which fields to compare first, second, etc.  A single field can\n",
      "        be specified as a string, and not all fields need be specified,\n",
      "        but unspecified fields will still be used, in the order in which\n",
      "        they come up in the dtype, to break ties.\n",
      "    \n",
      "    Returns\n",
      "    -------\n",
      "    index_array : ndarray, int\n",
      "        Array of indices that sort `a` along the specified `axis`.\n",
      "        If `a` is one-dimensional, ``a[index_array]`` yields a sorted `a`.\n",
      "        More generally, ``np.take_along_axis(a, index_array, axis=axis)``\n",
      "        always yields the sorted `a`, irrespective of dimensionality.\n",
      "    \n",
      "    See Also\n",
      "    --------\n",
      "    sort : Describes sorting algorithms used.\n",
      "    lexsort : Indirect stable sort with multiple keys.\n",
      "    ndarray.sort : Inplace sort.\n",
      "    argpartition : Indirect partial sort.\n",
      "    take_along_axis : Apply ``index_array`` from argsort\n",
      "                      to an array as if by calling sort.\n",
      "    \n",
      "    Notes\n",
      "    -----\n",
      "    See `sort` for notes on the different sorting algorithms.\n",
      "    \n",
      "    As of NumPy 1.4.0 `argsort` works with real/complex arrays containing\n",
      "    nan values. The enhanced sort order is documented in `sort`.\n",
      "    \n",
      "    Examples\n",
      "    --------\n",
      "    One dimensional array:\n",
      "    \n",
      "    >>> x = np.array([3, 1, 2])\n",
      "    >>> np.argsort(x)\n",
      "    array([1, 2, 0])\n",
      "    \n",
      "    Two-dimensional array:\n",
      "    \n",
      "    >>> x = np.array([[0, 3], [2, 2]])\n",
      "    >>> x\n",
      "    array([[0, 3],\n",
      "           [2, 2]])\n",
      "    \n",
      "    >>> ind = np.argsort(x, axis=0)  # sorts along first axis (down)\n",
      "    >>> ind\n",
      "    array([[0, 1],\n",
      "           [1, 0]])\n",
      "    >>> np.take_along_axis(x, ind, axis=0)  # same as np.sort(x, axis=0)\n",
      "    array([[0, 2],\n",
      "           [2, 3]])\n",
      "    \n",
      "    >>> ind = np.argsort(x, axis=1)  # sorts along last axis (across)\n",
      "    >>> ind\n",
      "    array([[0, 1],\n",
      "           [0, 1]])\n",
      "    >>> np.take_along_axis(x, ind, axis=1)  # same as np.sort(x, axis=1)\n",
      "    array([[0, 3],\n",
      "           [2, 2]])\n",
      "    \n",
      "    Indices of the sorted elements of a N-dimensional array:\n",
      "    \n",
      "    >>> ind = np.unravel_index(np.argsort(x, axis=None), x.shape)\n",
      "    >>> ind\n",
      "    (array([0, 1, 1, 0]), array([0, 0, 1, 1]))\n",
      "    >>> x[ind]  # same as np.sort(x, axis=None)\n",
      "    array([0, 2, 2, 3])\n",
      "    \n",
      "    Sorting with keys:\n",
      "    \n",
      "    >>> x = np.array([(1, 0), (0, 1)], dtype=[('x', '<i4'), ('y', '<i4')])\n",
      "    >>> x\n",
      "    array([(1, 0), (0, 1)],\n",
      "          dtype=[('x', '<i4'), ('y', '<i4')])\n",
      "    \n",
      "    >>> np.argsort(x, order=('x','y'))\n",
      "    array([1, 0])\n",
      "    \n",
      "    >>> np.argsort(x, order=('y','x'))\n",
      "    array([0, 1])\n",
      "\n"
     ]
    }
   ],
   "source": [
    "help(np.argsort)"
   ]
  },
  {
   "cell_type": "code",
   "execution_count": 51,
   "id": "e8187e18-a294-4cb7-b8cd-a0d77e4cd710",
   "metadata": {},
   "outputs": [
    {
     "data": {
      "text/plain": [
       "array([0.04374128, 0.20484475, 0.27350516, 0.40367513, 0.46329282,\n",
       "       0.89626222, 0.9356329 , 0.935968  , 0.94866861, 0.99140109])"
      ]
     },
     "execution_count": 51,
     "metadata": {},
     "output_type": "execute_result"
    }
   ],
   "source": [
    "a[a[:].argsort()]\n"
   ]
  },
  {
   "cell_type": "code",
   "execution_count": 52,
   "id": "47739bb1-da5e-437b-8528-abdc576adc81",
   "metadata": {},
   "outputs": [
    {
     "name": "stdout",
     "output_type": "stream",
     "text": [
      "Help on class iinfo in module numpy:\n",
      "\n",
      "class iinfo(builtins.object)\n",
      " |  iinfo(int_type)\n",
      " |  \n",
      " |  iinfo(type)\n",
      " |  \n",
      " |  Machine limits for integer types.\n",
      " |  \n",
      " |  Attributes\n",
      " |  ----------\n",
      " |  bits : int\n",
      " |      The number of bits occupied by the type.\n",
      " |  dtype : dtype\n",
      " |      Returns the dtype for which `iinfo` returns information.\n",
      " |  min : int\n",
      " |      The smallest integer expressible by the type.\n",
      " |  max : int\n",
      " |      The largest integer expressible by the type.\n",
      " |  \n",
      " |  Parameters\n",
      " |  ----------\n",
      " |  int_type : integer type, dtype, or instance\n",
      " |      The kind of integer data type to get information about.\n",
      " |  \n",
      " |  See Also\n",
      " |  --------\n",
      " |  finfo : The equivalent for floating point data types.\n",
      " |  \n",
      " |  Examples\n",
      " |  --------\n",
      " |  With types:\n",
      " |  \n",
      " |  >>> ii16 = np.iinfo(np.int16)\n",
      " |  >>> ii16.min\n",
      " |  -32768\n",
      " |  >>> ii16.max\n",
      " |  32767\n",
      " |  >>> ii32 = np.iinfo(np.int32)\n",
      " |  >>> ii32.min\n",
      " |  -2147483648\n",
      " |  >>> ii32.max\n",
      " |  2147483647\n",
      " |  \n",
      " |  With instances:\n",
      " |  \n",
      " |  >>> ii32 = np.iinfo(np.int32(10))\n",
      " |  >>> ii32.min\n",
      " |  -2147483648\n",
      " |  >>> ii32.max\n",
      " |  2147483647\n",
      " |  \n",
      " |  Methods defined here:\n",
      " |  \n",
      " |  __init__(self, int_type)\n",
      " |      Initialize self.  See help(type(self)) for accurate signature.\n",
      " |  \n",
      " |  __repr__(self)\n",
      " |      Return repr(self).\n",
      " |  \n",
      " |  __str__(self)\n",
      " |      String representation.\n",
      " |  \n",
      " |  ----------------------------------------------------------------------\n",
      " |  Readonly properties defined here:\n",
      " |  \n",
      " |  max\n",
      " |      Maximum value of given dtype.\n",
      " |  \n",
      " |  min\n",
      " |      Minimum value of given dtype.\n",
      " |  \n",
      " |  ----------------------------------------------------------------------\n",
      " |  Data descriptors defined here:\n",
      " |  \n",
      " |  __dict__\n",
      " |      dictionary for instance variables (if defined)\n",
      " |  \n",
      " |  __weakref__\n",
      " |      list of weak references to the object (if defined)\n",
      "\n"
     ]
    }
   ],
   "source": [
    "help(np.iinfo)"
   ]
  },
  {
   "cell_type": "code",
   "execution_count": 53,
   "id": "524c95e2-85b4-451a-8b2e-8f5a116f8b56",
   "metadata": {},
   "outputs": [
    {
     "data": {
      "text/plain": [
       "-128"
      ]
     },
     "execution_count": 53,
     "metadata": {},
     "output_type": "execute_result"
    }
   ],
   "source": [
    "np.iinfo(np.int8).min\n"
   ]
  },
  {
   "cell_type": "code",
   "execution_count": 54,
   "id": "c2ebb14f-1254-45ce-ae77-470df6e9fa55",
   "metadata": {},
   "outputs": [
    {
     "data": {
      "text/plain": [
       "-2147483648"
      ]
     },
     "execution_count": 54,
     "metadata": {},
     "output_type": "execute_result"
    }
   ],
   "source": [
    "np.iinfo(np.int32).min\n"
   ]
  },
  {
   "cell_type": "code",
   "execution_count": 55,
   "id": "37c554c9-e59e-4a13-a7da-b94ed45852cf",
   "metadata": {},
   "outputs": [
    {
     "data": {
      "text/plain": [
       "-9223372036854775808"
      ]
     },
     "execution_count": 55,
     "metadata": {},
     "output_type": "execute_result"
    }
   ],
   "source": [
    "np.iinfo(np.int64).min\n"
   ]
  },
  {
   "cell_type": "code",
   "execution_count": 57,
   "id": "67d47ea6-6364-4c36-af84-30630955503b",
   "metadata": {},
   "outputs": [
    {
     "data": {
      "text/plain": [
       "127"
      ]
     },
     "execution_count": 57,
     "metadata": {},
     "output_type": "execute_result"
    }
   ],
   "source": [
    "np.iinfo(np.int8).max\n"
   ]
  },
  {
   "cell_type": "code",
   "execution_count": 59,
   "id": "063ecb46-c03e-4ba5-a264-f6a78a794061",
   "metadata": {},
   "outputs": [
    {
     "data": {
      "text/plain": [
       "2147483647"
      ]
     },
     "execution_count": 59,
     "metadata": {},
     "output_type": "execute_result"
    }
   ],
   "source": [
    "np.iinfo(np.int32).max"
   ]
  },
  {
   "cell_type": "code",
   "execution_count": 60,
   "id": "0fd1885e-568c-4669-a274-0a82fda213e4",
   "metadata": {},
   "outputs": [
    {
     "data": {
      "text/plain": [
       "9223372036854775807"
      ]
     },
     "execution_count": 60,
     "metadata": {},
     "output_type": "execute_result"
    }
   ],
   "source": [
    "np.iinfo(np.int64).max"
   ]
  },
  {
   "cell_type": "code",
   "execution_count": 62,
   "id": "20331903-4433-4c16-af6c-b3ada7c8663c",
   "metadata": {},
   "outputs": [
    {
     "name": "stdout",
     "output_type": "stream",
     "text": [
      "Help on class finfo in module numpy:\n",
      "\n",
      "class finfo(builtins.object)\n",
      " |  finfo(dtype)\n",
      " |  \n",
      " |  finfo(dtype)\n",
      " |  \n",
      " |  Machine limits for floating point types.\n",
      " |  \n",
      " |  Attributes\n",
      " |  ----------\n",
      " |  bits : int\n",
      " |      The number of bits occupied by the type.\n",
      " |  dtype : dtype\n",
      " |      Returns the dtype for which `finfo` returns information. For complex\n",
      " |      input, the returned dtype is the associated ``float*`` dtype for its\n",
      " |      real and complex components.\n",
      " |  eps : float\n",
      " |      The difference between 1.0 and the next smallest representable float\n",
      " |      larger than 1.0. For example, for 64-bit binary floats in the IEEE-754\n",
      " |      standard, ``eps = 2**-52``, approximately 2.22e-16.\n",
      " |  epsneg : float\n",
      " |      The difference between 1.0 and the next smallest representable float\n",
      " |      less than 1.0. For example, for 64-bit binary floats in the IEEE-754\n",
      " |      standard, ``epsneg = 2**-53``, approximately 1.11e-16.\n",
      " |  iexp : int\n",
      " |      The number of bits in the exponent portion of the floating point\n",
      " |      representation.\n",
      " |  machep : int\n",
      " |      The exponent that yields `eps`.\n",
      " |  max : floating point number of the appropriate type\n",
      " |      The largest representable number.\n",
      " |  maxexp : int\n",
      " |      The smallest positive power of the base (2) that causes overflow.\n",
      " |  min : floating point number of the appropriate type\n",
      " |      The smallest representable number, typically ``-max``.\n",
      " |  minexp : int\n",
      " |      The most negative power of the base (2) consistent with there\n",
      " |      being no leading 0's in the mantissa.\n",
      " |  negep : int\n",
      " |      The exponent that yields `epsneg`.\n",
      " |  nexp : int\n",
      " |      The number of bits in the exponent including its sign and bias.\n",
      " |  nmant : int\n",
      " |      The number of bits in the mantissa.\n",
      " |  precision : int\n",
      " |      The approximate number of decimal digits to which this kind of\n",
      " |      float is precise.\n",
      " |  resolution : floating point number of the appropriate type\n",
      " |      The approximate decimal resolution of this type, i.e.,\n",
      " |      ``10**-precision``.\n",
      " |  tiny : float\n",
      " |      An alias for `smallest_normal`, kept for backwards compatibility.\n",
      " |  smallest_normal : float\n",
      " |      The smallest positive floating point number with 1 as leading bit in\n",
      " |      the mantissa following IEEE-754 (see Notes).\n",
      " |  smallest_subnormal : float\n",
      " |      The smallest positive floating point number with 0 as leading bit in\n",
      " |      the mantissa following IEEE-754.\n",
      " |  \n",
      " |  Parameters\n",
      " |  ----------\n",
      " |  dtype : float, dtype, or instance\n",
      " |      Kind of floating point or complex floating point\n",
      " |      data-type about which to get information.\n",
      " |  \n",
      " |  See Also\n",
      " |  --------\n",
      " |  iinfo : The equivalent for integer data types.\n",
      " |  spacing : The distance between a value and the nearest adjacent number\n",
      " |  nextafter : The next floating point value after x1 towards x2\n",
      " |  \n",
      " |  Notes\n",
      " |  -----\n",
      " |  For developers of NumPy: do not instantiate this at the module level.\n",
      " |  The initial calculation of these parameters is expensive and negatively\n",
      " |  impacts import times.  These objects are cached, so calling ``finfo()``\n",
      " |  repeatedly inside your functions is not a problem.\n",
      " |  \n",
      " |  Note that ``smallest_normal`` is not actually the smallest positive\n",
      " |  representable value in a NumPy floating point type. As in the IEEE-754\n",
      " |  standard [1]_, NumPy floating point types make use of subnormal numbers to\n",
      " |  fill the gap between 0 and ``smallest_normal``. However, subnormal numbers\n",
      " |  may have significantly reduced precision [2]_.\n",
      " |  \n",
      " |  This function can also be used for complex data types as well. If used,\n",
      " |  the output will be the same as the corresponding real float type\n",
      " |  (e.g. numpy.finfo(numpy.csingle) is the same as numpy.finfo(numpy.single)).\n",
      " |  However, the output is true for the real and imaginary components.\n",
      " |  \n",
      " |  References\n",
      " |  ----------\n",
      " |  .. [1] IEEE Standard for Floating-Point Arithmetic, IEEE Std 754-2008,\n",
      " |         pp.1-70, 2008, http://www.doi.org/10.1109/IEEESTD.2008.4610935\n",
      " |  .. [2] Wikipedia, \"Denormal Numbers\",\n",
      " |         https://en.wikipedia.org/wiki/Denormal_number\n",
      " |  \n",
      " |  Examples\n",
      " |  --------\n",
      " |  >>> np.finfo(np.float64).dtype\n",
      " |  dtype('float64')\n",
      " |  >>> np.finfo(np.complex64).dtype\n",
      " |  dtype('float32')\n",
      " |  \n",
      " |  Methods defined here:\n",
      " |  \n",
      " |  __repr__(self)\n",
      " |      Return repr(self).\n",
      " |  \n",
      " |  __str__(self)\n",
      " |      Return str(self).\n",
      " |  \n",
      " |  ----------------------------------------------------------------------\n",
      " |  Static methods defined here:\n",
      " |  \n",
      " |  __new__(cls, dtype)\n",
      " |      Create and return a new object.  See help(type) for accurate signature.\n",
      " |  \n",
      " |  ----------------------------------------------------------------------\n",
      " |  Readonly properties defined here:\n",
      " |  \n",
      " |  smallest_normal\n",
      " |      Return the value for the smallest normal.\n",
      " |      \n",
      " |      Returns\n",
      " |      -------\n",
      " |      smallest_normal : float\n",
      " |          Value for the smallest normal.\n",
      " |      \n",
      " |      Warns\n",
      " |      -----\n",
      " |      UserWarning\n",
      " |          If the calculated value for the smallest normal is requested for\n",
      " |          double-double.\n",
      " |  \n",
      " |  tiny\n",
      " |      Return the value for tiny, alias of smallest_normal.\n",
      " |      \n",
      " |      Returns\n",
      " |      -------\n",
      " |      tiny : float\n",
      " |          Value for the smallest normal, alias of smallest_normal.\n",
      " |      \n",
      " |      Warns\n",
      " |      -----\n",
      " |      UserWarning\n",
      " |          If the calculated value for the smallest normal is requested for\n",
      " |          double-double.\n",
      " |  \n",
      " |  ----------------------------------------------------------------------\n",
      " |  Data descriptors defined here:\n",
      " |  \n",
      " |  __dict__\n",
      " |      dictionary for instance variables (if defined)\n",
      " |  \n",
      " |  __weakref__\n",
      " |      list of weak references to the object (if defined)\n",
      "\n"
     ]
    }
   ],
   "source": [
    "help(np.finfo)"
   ]
  },
  {
   "cell_type": "code",
   "execution_count": 64,
   "id": "38b3f404-c694-4d7f-b555-4dfbfb8bce08",
   "metadata": {},
   "outputs": [
    {
     "data": {
      "text/plain": [
       "3.4028235e+38"
      ]
     },
     "execution_count": 64,
     "metadata": {},
     "output_type": "execute_result"
    }
   ],
   "source": [
    "np.finfo(np.float32).max"
   ]
  },
  {
   "cell_type": "code",
   "execution_count": 65,
   "id": "4d4ef40f-ea28-46c7-827a-3f1fd2ec481b",
   "metadata": {},
   "outputs": [
    {
     "data": {
      "text/plain": [
       "1.7976931348623157e+308"
      ]
     },
     "execution_count": 65,
     "metadata": {},
     "output_type": "execute_result"
    }
   ],
   "source": [
    "np.finfo(np.float64).max"
   ]
  },
  {
   "cell_type": "code",
   "execution_count": 66,
   "id": "0b697192-974e-4884-bb21-9857c490cd7d",
   "metadata": {},
   "outputs": [
    {
     "data": {
      "text/plain": [
       "-1.7976931348623157e+308"
      ]
     },
     "execution_count": 66,
     "metadata": {},
     "output_type": "execute_result"
    }
   ],
   "source": [
    "np.finfo(np.float64).min"
   ]
  },
  {
   "cell_type": "code",
   "execution_count": 67,
   "id": "56ebde14-f270-47d2-9e18-32fc10563513",
   "metadata": {},
   "outputs": [
    {
     "data": {
      "text/plain": [
       "-3.4028235e+38"
      ]
     },
     "execution_count": 67,
     "metadata": {},
     "output_type": "execute_result"
    }
   ],
   "source": [
    "np.finfo(np.float32).min"
   ]
  },
  {
   "cell_type": "code",
   "execution_count": 68,
   "id": "722ea073-4be4-4bdb-8834-fe43475b8771",
   "metadata": {},
   "outputs": [],
   "source": [
    "float_array = np.array([1.5, 2.7, 3.9, 4.2], dtype=np.float32)"
   ]
  },
  {
   "cell_type": "code",
   "execution_count": 69,
   "id": "7c487e83-de5f-4996-bf50-1f4d9b785710",
   "metadata": {},
   "outputs": [
    {
     "data": {
      "text/plain": [
       "array([1, 2, 3, 4])"
      ]
     },
     "execution_count": 69,
     "metadata": {},
     "output_type": "execute_result"
    }
   ],
   "source": [
    "float_array.astype(np.int32, copy=False)"
   ]
  },
  {
   "cell_type": "code",
   "execution_count": 70,
   "id": "2877f6ad-e977-46e1-8181-fbb4c53f5df6",
   "metadata": {},
   "outputs": [],
   "source": [
    "matrix = np.array([[1, 2, 3],\n",
    "                   [4, 5, 6],\n",
    "                   [7, 8, 9]])"
   ]
  },
  {
   "cell_type": "code",
   "execution_count": 72,
   "id": "b1ac5f4d-74e8-4884-98f7-49d6855f36fc",
   "metadata": {},
   "outputs": [
    {
     "data": {
      "text/plain": [
       "array([[-1.,  0.,  1.],\n",
       "       [-1.,  0.,  1.],\n",
       "       [-1.,  0.,  1.]])"
      ]
     },
     "execution_count": 72,
     "metadata": {},
     "output_type": "execute_result"
    }
   ],
   "source": [
    "matrix - np.mean(matrix, axis=1, keepdims=True)"
   ]
  },
  {
   "cell_type": "code",
   "execution_count": 73,
   "id": "cbe3ebe9-ba5c-488f-b2fe-0953ec48a795",
   "metadata": {},
   "outputs": [],
   "source": [
    "array = np.array([[4, 2, 5],\n",
    "                  [1, 6, 3],\n",
    "                  [7, 0, 8]])"
   ]
  },
  {
   "cell_type": "code",
   "execution_count": 74,
   "id": "0f4bbccb-80d4-47b6-ad59-c98501829ce0",
   "metadata": {},
   "outputs": [
    {
     "data": {
      "text/plain": [
       "array([[7, 0, 8],\n",
       "       [4, 2, 5],\n",
       "       [1, 6, 3]])"
      ]
     },
     "execution_count": 74,
     "metadata": {},
     "output_type": "execute_result"
    }
   ],
   "source": [
    "array[np.argsort(array[:, 1])]"
   ]
  },
  {
   "cell_type": "code",
   "execution_count": 75,
   "id": "bd207196-5eca-49f9-9556-362ac0788097",
   "metadata": {},
   "outputs": [],
   "source": [
    "array[[1, 2]] = array[[2, 1]]"
   ]
  },
  {
   "cell_type": "code",
   "execution_count": 76,
   "id": "5d765782-5de0-41d3-bb71-0e9082e1778d",
   "metadata": {},
   "outputs": [
    {
     "data": {
      "text/plain": [
       "array([[4, 2, 5],\n",
       "       [7, 0, 8],\n",
       "       [1, 6, 3]])"
      ]
     },
     "execution_count": 76,
     "metadata": {},
     "output_type": "execute_result"
    }
   ],
   "source": [
    "array"
   ]
  },
  {
   "cell_type": "code",
   "execution_count": 79,
   "id": "0da45513-caf1-4cd0-963c-e15baf29867e",
   "metadata": {},
   "outputs": [],
   "source": [
    "C = np.array([2, 0, 1, 3, 0, 1])"
   ]
  },
  {
   "cell_type": "code",
   "execution_count": 83,
   "id": "628b29c9-f7f0-4e72-baad-2f94e843b656",
   "metadata": {},
   "outputs": [],
   "source": [
    "A = np.repeat(np.arange(len(C)), C)"
   ]
  },
  {
   "cell_type": "code",
   "execution_count": 84,
   "id": "9ce64320-edf1-4e9c-b59c-08ca9d118e5b",
   "metadata": {},
   "outputs": [
    {
     "data": {
      "text/plain": [
       "array([0, 0, 2, 3, 3, 3, 5])"
      ]
     },
     "execution_count": 84,
     "metadata": {},
     "output_type": "execute_result"
    }
   ],
   "source": [
    "A"
   ]
  },
  {
   "cell_type": "code",
   "execution_count": 85,
   "id": "53e9a660-f268-4b3c-a7f4-ef98dda3cd0e",
   "metadata": {},
   "outputs": [
    {
     "data": {
      "text/plain": [
       "array([2, 0, 1, 3, 0, 1], dtype=int64)"
      ]
     },
     "execution_count": 85,
     "metadata": {},
     "output_type": "execute_result"
    }
   ],
   "source": [
    "np.bincount(A)"
   ]
  },
  {
   "cell_type": "code",
   "execution_count": null,
   "id": "aaec79e0-e06d-4eb3-abef-d55fd0e77b08",
   "metadata": {},
   "outputs": [],
   "source": []
  }
 ],
 "metadata": {
  "kernelspec": {
   "display_name": "Python 3 (ipykernel)",
   "language": "python",
   "name": "python3"
  },
  "language_info": {
   "codemirror_mode": {
    "name": "ipython",
    "version": 3
   },
   "file_extension": ".py",
   "mimetype": "text/x-python",
   "name": "python",
   "nbconvert_exporter": "python",
   "pygments_lexer": "ipython3",
   "version": "3.11.4"
  }
 },
 "nbformat": 4,
 "nbformat_minor": 5
}
