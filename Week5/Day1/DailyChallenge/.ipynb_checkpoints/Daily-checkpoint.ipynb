{
 "cells": [
  {
   "cell_type": "code",
   "execution_count": 1,
   "id": "25a1b00a-1c06-4dbb-8d65-c0bceace680f",
   "metadata": {},
   "outputs": [],
   "source": [
    "import numpy as np"
   ]
  },
  {
   "cell_type": "code",
   "execution_count": 70,
   "id": "3105f9a5-f9cc-4a9c-a6b9-b7a67e98d16c",
   "metadata": {},
   "outputs": [],
   "source": [
    "data = np.array(np.random.randint(1, 100, size=25)).reshape(5,5)"
   ]
  },
  {
   "cell_type": "code",
   "execution_count": 71,
   "id": "c3397efc-b42f-449d-8603-26277d074b6d",
   "metadata": {},
   "outputs": [
    {
     "data": {
      "text/plain": [
       "array([[40, 13,  3, 98, 54],\n",
       "       [25, 10, 61, 34, 41],\n",
       "       [42, 88, 84,  4, 28],\n",
       "       [91, 83, 94, 90, 76],\n",
       "       [72, 47, 71, 53, 90]])"
      ]
     },
     "execution_count": 71,
     "metadata": {},
     "output_type": "execute_result"
    }
   ],
   "source": [
    "data"
   ]
  },
  {
   "cell_type": "code",
   "execution_count": 72,
   "id": "ba7c23ca-7fe4-4bf7-b356-d4d4dd1947df",
   "metadata": {},
   "outputs": [],
   "source": [
    "data[[1, 3]] = data[[3, 1]]"
   ]
  },
  {
   "cell_type": "code",
   "execution_count": 73,
   "id": "faac045f-99b2-481d-a422-48786af01e47",
   "metadata": {},
   "outputs": [
    {
     "data": {
      "text/plain": [
       "array([[40, 13,  3, 98, 54],\n",
       "       [91, 83, 94, 90, 76],\n",
       "       [42, 88, 84,  4, 28],\n",
       "       [25, 10, 61, 34, 41],\n",
       "       [72, 47, 71, 53, 90]])"
      ]
     },
     "execution_count": 73,
     "metadata": {},
     "output_type": "execute_result"
    }
   ],
   "source": [
    "data"
   ]
  },
  {
   "cell_type": "code",
   "execution_count": 75,
   "id": "a7baaa48-5fd9-4115-8225-81fa6f5fb392",
   "metadata": {},
   "outputs": [],
   "source": [
    "normalized_data = (data - data.min()) / (data.max() - data.min())"
   ]
  },
  {
   "cell_type": "code",
   "execution_count": 76,
   "id": "b95fc097-d530-4af5-be3f-61f013d677b7",
   "metadata": {},
   "outputs": [
    {
     "data": {
      "text/plain": [
       "array([[0.38947368, 0.10526316, 0.        , 1.        , 0.53684211],\n",
       "       [0.92631579, 0.84210526, 0.95789474, 0.91578947, 0.76842105],\n",
       "       [0.41052632, 0.89473684, 0.85263158, 0.01052632, 0.26315789],\n",
       "       [0.23157895, 0.07368421, 0.61052632, 0.32631579, 0.4       ],\n",
       "       [0.72631579, 0.46315789, 0.71578947, 0.52631579, 0.91578947]])"
      ]
     },
     "execution_count": 76,
     "metadata": {},
     "output_type": "execute_result"
    }
   ],
   "source": [
    "normalized_data"
   ]
  },
  {
   "cell_type": "code",
   "execution_count": 77,
   "id": "c156a8bc-5fab-4470-821b-043bfc49676c",
   "metadata": {},
   "outputs": [],
   "source": [
    "normalized_data = (data - np.mean(data))/np.std(data)"
   ]
  },
  {
   "cell_type": "code",
   "execution_count": 78,
   "id": "ff40f88c-7bb9-4b25-9e8e-7da2b9c8081b",
   "metadata": {},
   "outputs": [
    {
     "data": {
      "text/plain": [
       "array([[-0.52077862, -1.41752752, -1.74965675,  1.40557087, -0.05579771],\n",
       "       [ 1.17308041,  0.90737704,  1.27271918,  1.13986749,  0.67488658],\n",
       "       [-0.45435278,  1.07344165,  0.94058996, -1.71644382, -0.91933369],\n",
       "       [-1.01897246, -1.51716629,  0.17669275, -0.72005615, -0.4875657 ],\n",
       "       [ 0.54203489, -0.28828817,  0.50882197, -0.08901063,  1.13986749]])"
      ]
     },
     "execution_count": 78,
     "metadata": {},
     "output_type": "execute_result"
    }
   ],
   "source": [
    "normalized_data"
   ]
  },
  {
   "cell_type": "code",
   "execution_count": 79,
   "id": "c2cb7cc6-f7e0-4332-9c6c-2c4d636826ea",
   "metadata": {},
   "outputs": [],
   "source": [
    "a = np.ravel(data)"
   ]
  },
  {
   "cell_type": "code",
   "execution_count": 80,
   "id": "3c28d97e-5034-4aa1-bf3c-76159d268839",
   "metadata": {},
   "outputs": [
    {
     "data": {
      "text/plain": [
       "array([40, 13,  3, 98, 54, 91, 83, 94, 90, 76, 42, 88, 84,  4, 28, 25, 10,\n",
       "       61, 34, 41, 72, 47, 71, 53, 90])"
      ]
     },
     "execution_count": 80,
     "metadata": {},
     "output_type": "execute_result"
    }
   ],
   "source": [
    "a"
   ]
  },
  {
   "cell_type": "code",
   "execution_count": 81,
   "id": "6a4540c6-d9b6-4144-9dd4-8a010b893b3d",
   "metadata": {},
   "outputs": [],
   "source": [
    "b = np.array_split(a, 5)"
   ]
  },
  {
   "cell_type": "code",
   "execution_count": 82,
   "id": "57ee7ea6-aba2-4ed3-b165-fd0340d388df",
   "metadata": {},
   "outputs": [
    {
     "data": {
      "text/plain": [
       "[array([40, 13,  3, 98, 54]),\n",
       " array([91, 83, 94, 90, 76]),\n",
       " array([42, 88, 84,  4, 28]),\n",
       " array([25, 10, 61, 34, 41]),\n",
       " array([72, 47, 71, 53, 90])]"
      ]
     },
     "execution_count": 82,
     "metadata": {},
     "output_type": "execute_result"
    }
   ],
   "source": [
    "b"
   ]
  },
  {
   "cell_type": "code",
   "execution_count": 83,
   "id": "94b46f36-efb2-4f61-8f63-2005acd77852",
   "metadata": {},
   "outputs": [],
   "source": [
    "vector1 = np.random.randint(1, 10, size=5)"
   ]
  },
  {
   "cell_type": "code",
   "execution_count": 84,
   "id": "72339da7-0d47-4499-b1ec-353345e7646a",
   "metadata": {},
   "outputs": [],
   "source": [
    "vector2 = np.random.randint(1, 10, size=5)"
   ]
  },
  {
   "cell_type": "code",
   "execution_count": 85,
   "id": "c8426dd9-ebc6-47ce-a922-388b92daf8ae",
   "metadata": {},
   "outputs": [
    {
     "data": {
      "text/plain": [
       "74"
      ]
     },
     "execution_count": 85,
     "metadata": {},
     "output_type": "execute_result"
    }
   ],
   "source": [
    "np.dot(vector1, vector2)"
   ]
  },
  {
   "cell_type": "code",
   "execution_count": 86,
   "id": "7de73f39-1e4e-4f67-8566-ff249f44e823",
   "metadata": {},
   "outputs": [],
   "source": [
    "data2 = np.array(np.random.randint(1, 100, size=9)).reshape(3,3)"
   ]
  },
  {
   "cell_type": "code",
   "execution_count": 87,
   "id": "7c178c18-4157-4ef4-9b46-f6dbbc86fe55",
   "metadata": {},
   "outputs": [
    {
     "data": {
      "text/plain": [
       "array([[90, 53, 14],\n",
       "       [51,  2, 90],\n",
       "       [15, 96, 78]])"
      ]
     },
     "execution_count": 87,
     "metadata": {},
     "output_type": "execute_result"
    }
   ],
   "source": [
    "data2"
   ]
  },
  {
   "cell_type": "code",
   "execution_count": 89,
   "id": "9da5aca0-2fc1-48b5-98ee-676badb4cbaa",
   "metadata": {},
   "outputs": [
    {
     "data": {
      "text/plain": [
       "array([[40, 13,  3],\n",
       "       [91, 83, 94],\n",
       "       [42, 88, 84]])"
      ]
     },
     "execution_count": 89,
     "metadata": {},
     "output_type": "execute_result"
    }
   ],
   "source": [
    "data[0:3,0:3]"
   ]
  },
  {
   "cell_type": "code",
   "execution_count": 90,
   "id": "dd51dcb9-abc0-4ca5-8016-44984cb53e9f",
   "metadata": {},
   "outputs": [
    {
     "data": {
      "text/plain": [
       "array([[ 4308,  2434,  1964],\n",
       "       [13833, 14013, 16076],\n",
       "       [ 9528, 10466, 15060]])"
      ]
     },
     "execution_count": 90,
     "metadata": {},
     "output_type": "execute_result"
    }
   ],
   "source": [
    "np.dot(data[0:3,0:3], data2)"
   ]
  },
  {
   "cell_type": "code",
   "execution_count": 91,
   "id": "ebef79e2-948e-44c0-a6f6-bf3f9e566f87",
   "metadata": {},
   "outputs": [
    {
     "data": {
      "text/plain": [
       "array([[0.5, 0. , 0. ],\n",
       "       [0. , 0.5, 0. ],\n",
       "       [0. , 0. , 0.5]])"
      ]
     },
     "execution_count": 91,
     "metadata": {},
     "output_type": "execute_result"
    }
   ],
   "source": [
    "np.linalg.inv(np.eye(3)*2)"
   ]
  },
  {
   "cell_type": "code",
   "execution_count": 92,
   "id": "197f7195-c8a0-4680-bfb9-7e3e69d7191f",
   "metadata": {},
   "outputs": [
    {
     "data": {
      "text/plain": [
       "EigResult(eigenvalues=array([182.02476569,  37.60836069, -12.63312638]), eigenvectors=array([[-0.08075819, -0.71047027,  0.15259631],\n",
       "       [-0.7242538 , -0.0315287 , -0.76282012],\n",
       "       [-0.68478795,  0.70302058,  0.6283469 ]]))"
      ]
     },
     "execution_count": 92,
     "metadata": {},
     "output_type": "execute_result"
    }
   ],
   "source": [
    "np.linalg.eig(data[0:3,0:3])"
   ]
  },
  {
   "cell_type": "code",
   "execution_count": 102,
   "id": "10ce0c8e-f685-43c2-b55a-ec169b1b7960",
   "metadata": {},
   "outputs": [],
   "source": [
    "data = np.array(np.random.randint(1, 100, size=25)).reshape(5,5)"
   ]
  },
  {
   "cell_type": "code",
   "execution_count": 103,
   "id": "a948aa09-7f73-4f5f-8445-7321e3957c5f",
   "metadata": {},
   "outputs": [
    {
     "data": {
      "text/plain": [
       "array([[ 1, 14, 40, 18, 31],\n",
       "       [99, 89, 95, 89, 28],\n",
       "       [43, 47, 80, 37, 63],\n",
       "       [99, 63, 25, 79, 54],\n",
       "       [45, 77, 99, 92, 85]])"
      ]
     },
     "execution_count": 103,
     "metadata": {},
     "output_type": "execute_result"
    }
   ],
   "source": [
    "data"
   ]
  },
  {
   "cell_type": "code",
   "execution_count": null,
   "id": "5a05c1fd-2077-4a5f-aa63-b8e32dca66c0",
   "metadata": {},
   "outputs": [],
   "source": []
  }
 ],
 "metadata": {
  "kernelspec": {
   "display_name": "Python 3 (ipykernel)",
   "language": "python",
   "name": "python3"
  },
  "language_info": {
   "codemirror_mode": {
    "name": "ipython",
    "version": 3
   },
   "file_extension": ".py",
   "mimetype": "text/x-python",
   "name": "python",
   "nbconvert_exporter": "python",
   "pygments_lexer": "ipython3",
   "version": "3.11.4"
  }
 },
 "nbformat": 4,
 "nbformat_minor": 5
}
